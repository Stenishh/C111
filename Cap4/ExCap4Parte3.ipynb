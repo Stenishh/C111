{
 "cells": [
  {
   "cell_type": "markdown",
   "metadata": {},
   "source": [
    "# Exercicio parte 3 \n"
   ]
  },
  {
   "cell_type": "markdown",
   "metadata": {},
   "source": [
    "1. Porcentagem de missões bem-sucedidas\n"
   ]
  },
  {
   "cell_type": "code",
   "execution_count": 17,
   "metadata": {},
   "outputs": [
    {
     "name": "stdout",
     "output_type": "stream",
     "text": [
      "Porcentagem de missões bem-sucedidas: 89.71 %\n"
     ]
    }
   ],
   "source": [
    "import numpy as np\n",
    "\n",
    "dataset_np = np.loadtxt('space.csv', delimiter=';', dtype='str', encoding='utf-8')\n",
    "\n",
    "sucesso = sum(dataset_np[1:, 7] == 'Success')\n",
    "total = len(dataset_np[1:, 7])\n",
    "porcentagem_sucesso = (sucesso / total) * 100\n",
    "print('Porcentagem de missões bem-sucedidas:', round(porcentagem_sucesso, 2), '%')\n"
   ]
  },
  {
   "cell_type": "markdown",
   "metadata": {},
   "source": [
    "2. Média dos gastos das missões com valores disponíveis (> 0)\n"
   ]
  },
  {
   "cell_type": "code",
   "execution_count": 20,
   "metadata": {},
   "outputs": [
    {
     "name": "stdout",
     "output_type": "stream",
     "text": [
      "Média dos gastos das missões: $ 153.79 milhões\n"
     ]
    }
   ],
   "source": [
    "gastos = [float(valor) for valor in dataset_np[1:, 6] if float(valor) > 0]\n",
    "media_gastos = sum(gastos) / len(gastos)\n",
    "print('Média dos gastos das missões: $', round(media_gastos, 2),'milhões')\n"
   ]
  },
  {
   "cell_type": "markdown",
   "metadata": {},
   "source": [
    "3. Quantidade de missões realizadas pelos EUA\n"
   ]
  },
  {
   "cell_type": "code",
   "execution_count": 14,
   "metadata": {},
   "outputs": [
    {
     "name": "stdout",
     "output_type": "stream",
     "text": [
      "Quantidade de missões realizadas pelos EUA: 1344\n"
     ]
    }
   ],
   "source": [
    "missoes_eua = sum('USA' in local for local in dataset_np[1:, 2])\n",
    "print('Quantidade de missões realizadas pelos EUA:', missoes_eua)\n"
   ]
  },
  {
   "cell_type": "markdown",
   "metadata": {},
   "source": [
    " 4. Missão mais cara da SpaceX\n"
   ]
  },
  {
   "cell_type": "code",
   "execution_count": 15,
   "metadata": {},
   "outputs": [
    {
     "name": "stdout",
     "output_type": "stream",
     "text": [
      "Missão mais cara da SpaceX: Falcon Heavy | STP-2\n"
     ]
    }
   ],
   "source": [
    "spacex_missoes = [linha for linha in dataset_np[1:] if linha[1] == 'SpaceX']\n",
    "missao_mais_cara = max(spacex_missoes, key=lambda linha: float(linha[6]))\n",
    "print('Missão mais cara da SpaceX:', missao_mais_cara[4])\n"
   ]
  },
  {
   "cell_type": "markdown",
   "metadata": {},
   "source": [
    "5. Empresas e quantidades de missões realizadas\n"
   ]
  },
  {
   "cell_type": "code",
   "execution_count": 16,
   "metadata": {},
   "outputs": [
    {
     "name": "stdout",
     "output_type": "stream",
     "text": [
      "Empresa: AEB - Quantidade de missões: 3\n",
      "Empresa: AMBA - Quantidade de missões: 8\n",
      "Empresa: ASI - Quantidade de missões: 9\n",
      "Empresa: Arianespace - Quantidade de missões: 279\n",
      "Empresa: Arm??e de l'Air - Quantidade de missões: 4\n",
      "Empresa: Blue Origin - Quantidade de missões: 12\n",
      "Empresa: Boeing - Quantidade de missões: 136\n",
      "Empresa: CASC - Quantidade de missões: 251\n",
      "Empresa: CASIC - Quantidade de missões: 5\n",
      "Empresa: CECLES - Quantidade de missões: 4\n",
      "Empresa: CNES - Quantidade de missões: 8\n",
      "Empresa: Douglas - Quantidade de missões: 1\n",
      "Empresa: EER - Quantidade de missões: 1\n",
      "Empresa: ESA - Quantidade de missões: 13\n",
      "Empresa: Eurockot - Quantidade de missões: 13\n",
      "Empresa: ExPace - Quantidade de missões: 10\n",
      "Empresa: Exos - Quantidade de missões: 4\n",
      "Empresa: General Dynamics - Quantidade de missões: 251\n",
      "Empresa: IAI - Quantidade de missões: 11\n",
      "Empresa: ILS - Quantidade de missões: 46\n",
      "Empresa: IRGC - Quantidade de missões: 1\n",
      "Empresa: ISA - Quantidade de missões: 13\n",
      "Empresa: ISAS - Quantidade de missões: 30\n",
      "Empresa: ISRO - Quantidade de missões: 76\n",
      "Empresa: JAXA - Quantidade de missões: 7\n",
      "Empresa: KARI - Quantidade de missões: 3\n",
      "Empresa: KCST - Quantidade de missões: 5\n",
      "Empresa: Khrunichev - Quantidade de missões: 1\n",
      "Empresa: Kosmotras - Quantidade de missões: 22\n",
      "Empresa: Land Launch - Quantidade de missões: 7\n",
      "Empresa: Landspace - Quantidade de missões: 1\n",
      "Empresa: Lockheed - Quantidade de missões: 79\n",
      "Empresa: MHI - Quantidade de missões: 84\n",
      "Empresa: MITT - Quantidade de missões: 7\n",
      "Empresa: Martin Marietta - Quantidade de missões: 114\n",
      "Empresa: NASA - Quantidade de missões: 203\n",
      "Empresa: Northrop - Quantidade de missões: 83\n",
      "Empresa: OKB-586 - Quantidade de missões: 2\n",
      "Empresa: OneSpace - Quantidade de missões: 1\n",
      "Empresa: RAE - Quantidade de missões: 2\n",
      "Empresa: RVSN USSR - Quantidade de missões: 1777\n",
      "Empresa: Rocket Lab - Quantidade de missões: 13\n",
      "Empresa: Roscosmos - Quantidade de missões: 55\n",
      "Empresa: SRC - Quantidade de missões: 3\n",
      "Empresa: Sandia - Quantidade de missões: 1\n",
      "Empresa: Sea Launch - Quantidade de missões: 36\n",
      "Empresa: SpaceX - Quantidade de missões: 100\n",
      "Empresa: Starsem - Quantidade de missões: 1\n",
      "Empresa: ULA - Quantidade de missões: 140\n",
      "Empresa: US Air Force - Quantidade de missões: 161\n",
      "Empresa: US Navy - Quantidade de missões: 17\n",
      "Empresa: UT - Quantidade de missões: 5\n",
      "Empresa: VKS RF - Quantidade de missões: 201\n",
      "Empresa: Virgin Orbit - Quantidade de missões: 1\n",
      "Empresa: Yuzhmash - Quantidade de missões: 2\n",
      "Empresa: i-Space - Quantidade de missões: 1\n"
     ]
    }
   ],
   "source": [
    "empresas, quantidades = np.unique(dataset_np[1:, 1], return_counts=True)\n",
    "for i in range(len(empresas)):\n",
    "    print('Empresa:', empresas[i], '- Quantidade de missões:', quantidades[i])\n"
   ]
  }
 ],
 "metadata": {
  "kernelspec": {
   "display_name": "Python 3",
   "language": "python",
   "name": "python3"
  },
  "language_info": {
   "codemirror_mode": {
    "name": "ipython",
    "version": 3
   },
   "file_extension": ".py",
   "mimetype": "text/x-python",
   "name": "python",
   "nbconvert_exporter": "python",
   "pygments_lexer": "ipython3",
   "version": "3.9.6"
  }
 },
 "nbformat": 4,
 "nbformat_minor": 2
}
