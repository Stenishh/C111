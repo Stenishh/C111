{
 "cells": [
  {
   "cell_type": "markdown",
   "metadata": {},
   "source": [
    "# Exercicio 1\n",
    "\n"
   ]
  },
  {
   "cell_type": "code",
   "execution_count": 1,
   "metadata": {},
   "outputs": [],
   "source": [
    "Times = ['Barcelona','Real Madrid','Atletico de madrid','Osasuna','Sevilla']\n"
   ]
  },
  {
   "cell_type": "code",
   "execution_count": 3,
   "metadata": {},
   "outputs": [
    {
     "name": "stdout",
     "output_type": "stream",
     "text": [
      "Os 3 primeiros colocados: ['Barcelona', 'Real Madrid', 'Atletico de madrid']\n"
     ]
    }
   ],
   "source": [
    "Top3 = Times[:3]\n",
    "print(\"Os 3 primeiros colocados:\", Top3)"
   ]
  },
  {
   "cell_type": "code",
   "execution_count": 6,
   "metadata": {},
   "outputs": [
    {
     "name": "stdout",
     "output_type": "stream",
     "text": [
      "Os últimos 2 colocados: ['Osasuna', 'Sevilla']\n"
     ]
    }
   ],
   "source": [
    "Ultm2 = Times[-2:]\n",
    "print(\"Os últimos 2 colocados:\", Ultm2)"
   ]
  },
  {
   "cell_type": "code",
   "execution_count": 7,
   "metadata": {},
   "outputs": [
    {
     "name": "stdout",
     "output_type": "stream",
     "text": [
      "Times em ordem alfabética: ['Atletico de madrid', 'Barcelona', 'Osasuna', 'Real Madrid', 'Sevilla']\n"
     ]
    }
   ],
   "source": [
    "OrdemAlfabetica = sorted(Times)\n",
    "print(\"Times em ordem alfabética:\", OrdemAlfabetica)"
   ]
  },
  {
   "cell_type": "code",
   "execution_count": 8,
   "metadata": {},
   "outputs": [
    {
     "name": "stdout",
     "output_type": "stream",
     "text": [
      "O Barcelona está na posição: 1\n"
     ]
    }
   ],
   "source": [
    "posi = Times.index('Barcelona') + 1\n",
    "print(\"O Barcelona está na posição:\", posi)"
   ]
  },
  {
   "cell_type": "markdown",
   "metadata": {},
   "source": [
    "# Exercicio 2"
   ]
  },
  {
   "cell_type": "code",
   "execution_count": 11,
   "metadata": {},
   "outputs": [
    {
     "name": "stdout",
     "output_type": "stream",
     "text": [
      "Modelos disponíveis no total: {'Samsung Galaxy S25 Ultra', 'OnePlus 9', 'Samsung Galaxy S25', 'iPhone 16 Pro Max', 'iPhone 16', 'Google Pixel 9'}\n",
      "Modelos disponíveis em ambas as lojas: {'Google Pixel 9', 'Samsung Galaxy S25'}\n"
     ]
    }
   ],
   "source": [
    "# Conjuntos de smartphones vendidos em cada loja\n",
    "loja1 = {'iPhone 16 Pro Max', 'Samsung Galaxy S25', 'Samsung Galaxy S25 Ultra', 'Google Pixel 9'}\n",
    "loja2 = {'Samsung Galaxy S25', 'iPhone 16', 'OnePlus 9', 'Google Pixel 9'}\n",
    "\n",
    "\n",
    "modelos_totais = loja1.union(loja2)\n",
    "print(\"Modelos disponíveis no total:\", modelos_totais)\n",
    "\n",
    "\n",
    "modelos_ambas = loja1.intersection(loja2)\n",
    "print(\"Modelos disponíveis em ambas as lojas:\", modelos_ambas)\n"
   ]
  },
  {
   "cell_type": "markdown",
   "metadata": {},
   "source": [
    "# Exercicio 3\n"
   ]
  },
  {
   "cell_type": "code",
   "execution_count": 13,
   "metadata": {},
   "outputs": [
    {
     "name": "stdout",
     "output_type": "stream",
     "text": [
      "Dados do aluno:\n",
      "{'Nome': 'VITOR', 'Média': 45.0, 'Situação': 'RP'}\n"
     ]
    }
   ],
   "source": [
    "nome = input(\"Digite o nome do aluno: \")\n",
    "media = float(input(\"Digite a média do aluno: \"))\n",
    "\n",
    "# Determinação da situação do aluno\n",
    "situacao = 'AP' if media >= 50 else 'RP'\n",
    "\n",
    "aluno = {\n",
    "    'Nome': nome,\n",
    "    'Média': media,\n",
    "    'Situação': situacao\n",
    "}\n",
    "\n",
    "print(\"Dados do aluno:\")\n",
    "print(aluno)\n"
   ]
  },
  {
   "cell_type": "markdown",
   "metadata": {},
   "source": [
    "# Exercicio 4"
   ]
  },
  {
   "cell_type": "code",
   "execution_count": null,
   "metadata": {},
   "outputs": [
    {
     "name": "stdout",
     "output_type": "stream",
     "text": [
      "A pessoa mais pesada é {mais_pesada[0]} com {mais_pesada[1]} kg.\n",
      "A pessoa mais leve é {mais_leve[0]} com {mais_leve[1]} kg.\n"
     ]
    }
   ],
   "source": [
    "pessoas = []\n",
    "\n",
    "for i in range(3):\n",
    "    nome = input(\"Digite o nome da {} pessoa: \".format(i+1))  # Usando .format()\n",
    "    peso = float(input(\"Digite o peso de {} (kg): \".format(nome)))  # Usando .format()\n",
    "    pessoas.append([nome, peso])\n",
    "\n",
    "mais_pesada = max(pessoas, key=lambda x: x[1])\n",
    "mais_leve = min(pessoas, key=lambda x: x[1])\n",
    "\n",
    "print(\"A pessoa mais pesada é {} com {} kg.\".format(mais_pesada[0], mais_pesada[1]))  # Usando .format()\n",
    "print(\"A pessoa mais leve é {} com {} kg.\".format(mais_leve[0], mais_leve[1]))  # Usando .format()\n"
   ]
  },
  {
   "cell_type": "markdown",
   "metadata": {},
   "source": [
    "# Exercicio 5"
   ]
  },
  {
   "cell_type": "code",
   "execution_count": 15,
   "metadata": {},
   "outputs": [
    {
     "name": "stdout",
     "output_type": "stream",
     "text": [
      "A média de idade do grupo é 44.00 anos.\n",
      "Quantidade de mulheres com menos de 20 anos: 0\n"
     ]
    }
   ],
   "source": [
    "\n",
    "pessoas = []\n",
    "soma_idades = 0\n",
    "mulheres_menos_20 = 0\n",
    "\n",
    "n = int(input(\"Quantas pessoas deseja cadastrar? \"))\n",
    "\n",
    "# Leitura dos dados das pessoas\n",
    "for i in range(n):\n",
    "    nome = input(\"Digite o nome da {}ª pessoa: \".format(i+1))\n",
    "    idade = int(input(\"Digite a idade de {}: \".format(nome)))\n",
    "    sexo = input(\"Digite o sexo de {} (M/F): \".format(nome)).strip().upper()\n",
    "\n",
    "    pessoas.append([nome, idade, sexo])\n",
    "    soma_idades += idade\n",
    "\n",
    "    if sexo == 'F' and idade < 20:\n",
    "        mulheres_menos_20 += 1\n",
    "\n",
    "media_idade = soma_idades / n\n",
    "\n",
    "# Exibição dos resultados\n",
    "print(\"A média de idade do grupo é {:.2f} anos.\".format(media_idade))\n",
    "print(\"Quantidade de mulheres com menos de 20 anos:\", mulheres_menos_20)\n"
   ]
  }
 ],
 "metadata": {
  "kernelspec": {
   "display_name": "Python 3",
   "language": "python",
   "name": "python3"
  },
  "language_info": {
   "codemirror_mode": {
    "name": "ipython",
    "version": 3
   },
   "file_extension": ".py",
   "mimetype": "text/x-python",
   "name": "python",
   "nbconvert_exporter": "python",
   "pygments_lexer": "ipython3",
   "version": "3.9.6"
  }
 },
 "nbformat": 4,
 "nbformat_minor": 2
}
