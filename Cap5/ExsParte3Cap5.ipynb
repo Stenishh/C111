{
 "cells": [
  {
   "cell_type": "markdown",
   "metadata": {},
   "source": [
    "# Parte 3"
   ]
  },
  {
   "cell_type": "markdown",
   "metadata": {},
   "source": [
    "### 1 -\n"
   ]
  },
  {
   "cell_type": "code",
   "execution_count": null,
   "metadata": {},
   "outputs": [
    {
     "name": "stdout",
     "output_type": "stream",
     "text": [
      "Paises na Oceania:\n",
      "                   Country                               Region\n",
      "3          American Samoa   OCEANIA                            \n",
      "11              Australia   OCEANIA                            \n",
      "47           Cook Islands   OCEANIA                            \n",
      "67                   Fiji   OCEANIA                            \n",
      "71       French Polynesia   OCEANIA                            \n",
      "83                   Guam   OCEANIA                            \n",
      "108              Kiribati   OCEANIA                            \n",
      "130      Marshall Islands   OCEANIA                            \n",
      "136  Micronesia, Fed. St.   OCEANIA                            \n",
      "144                 Nauru   OCEANIA                            \n",
      "148         New Caledonia   OCEANIA                            \n",
      "149           New Zealand   OCEANIA                            \n",
      "153    N. Mariana Islands   OCEANIA                            \n",
      "157                 Palau   OCEANIA                            \n",
      "159      Papua New Guinea   OCEANIA                            \n",
      "176                 Samoa   OCEANIA                            \n",
      "187       Solomon Islands   OCEANIA                            \n",
      "203                 Tonga   OCEANIA                            \n",
      "209                Tuvalu   OCEANIA                            \n",
      "217               Vanuatu   OCEANIA                            \n",
      "221     Wallis and Futuna   OCEANIA                            \n",
      "\n",
      "Numero de paises na Oceania: 21\n"
     ]
    }
   ],
   "source": [
    "import pandas as pd\n",
    "\n",
    "df = pd.read_csv('paises.csv', delimiter=';')\n",
    "oceania_countries = df[df['Region'].str.contains('OCEANIA')]\n",
    "print(\"Paises na Oceania:\")\n",
    "print(oceania_countries[['Country', 'Region']])\n",
    "\n",
    "oceania_count = len(oceania_countries)\n",
    "print(f\"\\nNumero de paises na Oceania: {oceania_count}\")\n",
    "\n",
    "\n"
   ]
  },
  {
   "cell_type": "markdown",
   "metadata": {},
   "source": [
    "### 2 - "
   ]
  },
  {
   "cell_type": "code",
   "execution_count": 9,
   "metadata": {},
   "outputs": [
    {
     "name": "stdout",
     "output_type": "stream",
     "text": [
      "Pais com a maior população: China \n",
      "Região: ASIA (EX. NEAR EAST)         \n"
     ]
    }
   ],
   "source": [
    "# Get the country with maximum population\n",
    "max_pop_country = df.loc[df['Population'].idxmax()]\n",
    "\n",
    "# Print the country name and region\n",
    "print(f\"Pais com a maior população: {max_pop_country['Country']}\")\n",
    "print(f\"Região: {max_pop_country['Region']}\")"
   ]
  },
  {
   "cell_type": "markdown",
   "metadata": {},
   "source": [
    "### 3-"
   ]
  },
  {
   "cell_type": "code",
   "execution_count": 14,
   "metadata": {},
   "outputs": [
    {
     "name": "stdout",
     "output_type": "stream",
     "text": [
      "\n",
      "Media de alfabetizacao por regiao:\n",
      "Region\n",
      "BALTICS                                99.73\n",
      "C.W. OF IND. STATES                    98.72\n",
      "LATIN AMER. & CARIB                    88.64\n",
      "WESTERN EUROPE                         80.82\n",
      "ASIA (EX. NEAR EAST)                   79.55\n",
      "NORTHERN AMERICA                       78.20\n",
      "EASTERN EUROPE                         72.82\n",
      "OCEANIA                                71.91\n",
      "NEAR EAST                              69.58\n",
      "SUB-SAHARAN AFRICA                     61.28\n",
      "NORTHERN AFRICA                        56.03\n",
      "Name: Literacy (%), dtype: float64\n"
     ]
    }
   ],
   "source": [
    "# Group by Region and calculate mean literacy rate\n",
    "literacy_by_region = df.groupby('Region')['Literacy (%)'].mean()\n",
    "\n",
    "# Round the literacy rates to 2 decimal places\n",
    "literacy_by_region = literacy_by_region.round(2)\n",
    "\n",
    "print(\"\\nMedia de alfabetizacao por regiao:\")\n",
    "print(literacy_by_region.sort_values(ascending=False))"
   ]
  },
  {
   "cell_type": "markdown",
   "metadata": {},
   "source": [
    "### 4 -"
   ]
  },
  {
   "cell_type": "code",
   "execution_count": 16,
   "metadata": {},
   "outputs": [
    {
     "name": "stdout",
     "output_type": "stream",
     "text": [
      "\n",
      " países que não possuem costa marítima:\n",
      "                   Country                               Region\n",
      "0             Afghanistan         ASIA (EX. NEAR EAST)         \n",
      "4                 Andorra   WESTERN EUROPE                     \n",
      "9                 Armenia                  C.W. OF IND. STATES \n",
      "12                Austria   WESTERN EUROPE                     \n",
      "13             Azerbaijan                  C.W. OF IND. STATES \n",
      "18                Belarus                  C.W. OF IND. STATES \n",
      "23                 Bhutan         ASIA (EX. NEAR EAST)         \n",
      "24                Bolivia               LATIN AMER. & CARIB    \n",
      "26               Botswana   SUB-SAHARAN AFRICA                 \n",
      "31           Burkina Faso   SUB-SAHARAN AFRICA                 \n",
      "33                Burundi   SUB-SAHARAN AFRICA                 \n",
      "39   Central African Rep.   SUB-SAHARAN AFRICA                 \n",
      "40                   Chad   SUB-SAHARAN AFRICA                 \n",
      "45       Congo, Dem. Rep.   SUB-SAHARAN AFRICA                 \n",
      "53         Czech Republic   EASTERN EUROPE                     \n",
      "65               Ethiopia   SUB-SAHARAN AFRICA                 \n",
      "92                Hungary   EASTERN EUROPE                     \n",
      "106            Kazakhstan                  C.W. OF IND. STATES \n",
      "112            Kyrgyzstan                  C.W. OF IND. STATES \n",
      "113                  Laos         ASIA (EX. NEAR EAST)         \n",
      "116               Lesotho   SUB-SAHARAN AFRICA                 \n",
      "119         Liechtenstein   WESTERN EUROPE                     \n",
      "121            Luxembourg   WESTERN EUROPE                     \n",
      "123             Macedonia   EASTERN EUROPE                     \n",
      "125                Malawi   SUB-SAHARAN AFRICA                 \n",
      "128                  Mali   SUB-SAHARAN AFRICA                 \n",
      "137               Moldova                  C.W. OF IND. STATES \n",
      "139              Mongolia         ASIA (EX. NEAR EAST)         \n",
      "145                 Nepal         ASIA (EX. NEAR EAST)         \n",
      "151                 Niger   SUB-SAHARAN AFRICA                 \n",
      "160              Paraguay               LATIN AMER. & CARIB    \n",
      "170                Rwanda   SUB-SAHARAN AFRICA                 \n",
      "177            San Marino   WESTERN EUROPE                     \n",
      "181                Serbia   EASTERN EUROPE                     \n",
      "185              Slovakia   EASTERN EUROPE                     \n",
      "194             Swaziland   SUB-SAHARAN AFRICA                 \n",
      "196           Switzerland   WESTERN EUROPE                     \n",
      "199            Tajikistan                  C.W. OF IND. STATES \n",
      "207          Turkmenistan                  C.W. OF IND. STATES \n",
      "210                Uganda   SUB-SAHARAN AFRICA                 \n",
      "216            Uzbekistan                  C.W. OF IND. STATES \n",
      "222             West Bank   NEAR EAST                          \n",
      "225                Zambia   SUB-SAHARAN AFRICA                 \n",
      "226              Zimbabwe   SUB-SAHARAN AFRICA                 \n"
     ]
    }
   ],
   "source": [
    "# Filter countries with no coastline\n",
    "no_coast_countries = df[df['Coastline (coast/area ratio)'] == 0]\n",
    "\n",
    "# Save to CSV file\n",
    "no_coast_countries.to_csv('noCoast.csv', index=False)\n",
    "\n",
    "\n",
    "print(\"\\n países que não possuem costa marítima:\")\n",
    "print(no_coast_countries[['Country', 'Region']].to_string())"
   ]
  },
  {
   "cell_type": "markdown",
   "metadata": {},
   "source": [
    "### 5 -"
   ]
  },
  {
   "cell_type": "code",
   "execution_count": null,
   "metadata": {},
   "outputs": [
    {
     "name": "stdout",
     "output_type": "stream",
     "text": [
      "             Country                               Region  Population  \\\n",
      "0       Afghanistan         ASIA (EX. NEAR EAST)             31056997   \n",
      "1           Albania   EASTERN EUROPE                          3581655   \n",
      "2           Algeria   NORTHERN AFRICA                        32930091   \n",
      "3    American Samoa   OCEANIA                                   57794   \n",
      "4           Andorra   WESTERN EUROPE                            71201   \n",
      "..               ...                                  ...         ...   \n",
      "222       West Bank   NEAR EAST                               2460492   \n",
      "223  Western Sahara   NORTHERN AFRICA                          273008   \n",
      "224           Yemen   NEAR EAST                              21456188   \n",
      "225          Zambia   SUB-SAHARAN AFRICA                     11502010   \n",
      "226        Zimbabwe   SUB-SAHARAN AFRICA                     12236805   \n",
      "\n",
      "     Area (sq. mi.)  Pop. Density (per sq. mi.)  Coastline (coast/area ratio)  \\\n",
      "0            647500                        48.0                          0.00   \n",
      "1             28748                       124.6                          1.26   \n",
      "2           2381740                        13.8                          0.04   \n",
      "3               199                       290.4                         58.29   \n",
      "4               468                       152.1                          0.00   \n",
      "..              ...                         ...                           ...   \n",
      "222            5860                       419.9                          0.00   \n",
      "223          266000                         1.0                          0.42   \n",
      "224          527970                        40.6                          0.36   \n",
      "225          752614                        15.3                          0.00   \n",
      "226          390580                        31.3                          0.00   \n",
      "\n",
      "     Net migration  Infant mortality (per 1000 births)  GDP ($ per capita)  \\\n",
      "0            23.06                              163.07                 700   \n",
      "1            -4.93                               21.52                4500   \n",
      "2            -0.39                               31.00                6000   \n",
      "3           -20.71                                9.27                8000   \n",
      "4             6.60                                4.05               19000   \n",
      "..             ...                                 ...                 ...   \n",
      "222           2.98                               19.62                 800   \n",
      "223           0.00                                0.00                   0   \n",
      "224           0.00                               61.50                 800   \n",
      "225           0.00                               88.29                 800   \n",
      "226           0.00                               67.69                1900   \n",
      "\n",
      "     Literacy (%)  ...  Arable (%)  Crops (%)  Other (%)  Climate  Birthrate  \\\n",
      "0            36.0  ...       12.13       0.22      87.65      1.0      46.60   \n",
      "1            86.5  ...       21.09       4.42      74.49      3.0      15.11   \n",
      "2            70.0  ...        3.22       0.25      96.53      1.0      17.14   \n",
      "3            97.0  ...       10.00      15.00      75.00      2.0      22.46   \n",
      "4           100.0  ...        2.22       0.00      97.78      3.0       8.71   \n",
      "..            ...  ...         ...        ...        ...      ...        ...   \n",
      "222           0.0  ...       16.90      18.97      64.13      3.0      31.67   \n",
      "223           0.0  ...        0.02       0.00      99.98      1.0       0.00   \n",
      "224          50.2  ...        2.78       0.24      96.98      1.0      42.89   \n",
      "225          80.6  ...        7.08       0.03      92.90      2.0      41.00   \n",
      "226          90.7  ...        8.32       0.34      91.34      2.0      28.01   \n",
      "\n",
      "     Deathrate  Agriculture  Industry  Service  Humanitarian Help  \n",
      "0        20.34        0.380     0.240    0.380             Urgent  \n",
      "1         5.22        0.232     0.188    0.579           Balanced  \n",
      "2         4.61        0.101     0.600    0.298           Balanced  \n",
      "3         3.27        0.000     0.000    0.000           Balanced  \n",
      "4         6.25        0.000     0.000    0.000           Balanced  \n",
      "..         ...          ...       ...      ...                ...  \n",
      "222       3.92        0.090     0.280    0.630           Balanced  \n",
      "223       0.00        0.000     0.000    0.400           Balanced  \n",
      "224       8.30        0.135     0.472    0.393           Balanced  \n",
      "225      19.93        0.220     0.290    0.489             Urgent  \n",
      "226      21.84        0.179     0.243    0.579             Urgent  \n",
      "\n",
      "[227 rows x 21 columns]\n"
     ]
    }
   ],
   "source": [
    "def classify_deathrate(deathrate):\n",
    "    return 'Balanced' if deathrate < 9 else 'Urgent'\n",
    "\n",
    "df['Humanitarian Help'] = df['Deathrate'].apply(classify_deathrate)\n",
    "\n",
    "print(df)"
   ]
  }
 ],
 "metadata": {
  "kernelspec": {
   "display_name": "Python 3",
   "language": "python",
   "name": "python3"
  },
  "language_info": {
   "codemirror_mode": {
    "name": "ipython",
    "version": 3
   },
   "file_extension": ".py",
   "mimetype": "text/x-python",
   "name": "python",
   "nbconvert_exporter": "python",
   "pygments_lexer": "ipython3",
   "version": "3.9.6"
  }
 },
 "nbformat": 4,
 "nbformat_minor": 2
}
