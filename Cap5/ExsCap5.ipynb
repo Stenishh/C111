{
 "cells": [
  {
   "cell_type": "code",
   "execution_count": 20,
   "metadata": {},
   "outputs": [],
   "source": [
    "import pandas as pd \n",
    "import numpy as np"
   ]
  },
  {
   "cell_type": "markdown",
   "metadata": {},
   "source": [
    "# Parte 1 "
   ]
  },
  {
   "cell_type": "markdown",
   "metadata": {},
   "source": [
    "1 -\n"
   ]
  },
  {
   "cell_type": "code",
   "execution_count": 21,
   "metadata": {},
   "outputs": [],
   "source": [
    "seriesAno1 = pd.Series({'Java': 16.25, 'C': 16.04, 'Python': 9.85})\n",
    "seriesAno2 = pd.Series({'C': 16.21, 'Python': 12.12, 'Java': 11.68})"
   ]
  },
  {
   "cell_type": "markdown",
   "metadata": {},
   "source": [
    "2 -"
   ]
  },
  {
   "cell_type": "code",
   "execution_count": 22,
   "metadata": {},
   "outputs": [
    {
     "name": "stdout",
     "output_type": "stream",
     "text": [
      "Porcentagem total no Ano 1: 42.14%\n",
      "Porcentagem total no Ano 2: 40.01%\n"
     ]
    }
   ],
   "source": [
    "totalAno1 = seriesAno1.sum()\n",
    "totalAno2 = seriesAno2.sum()\n",
    "\n",
    "print(f\"Porcentagem total no Ano 1: {totalAno1}%\")\n",
    "print(f\"Porcentagem total no Ano 2: {totalAno2}%\")"
   ]
  },
  {
   "cell_type": "markdown",
   "metadata": {},
   "source": [
    "3 -\n"
   ]
  },
  {
   "cell_type": "code",
   "execution_count": 23,
   "metadata": {},
   "outputs": [
    {
     "name": "stdout",
     "output_type": "stream",
     "text": [
      "Variação no mercado de cada linguagem do Ano 1 para o Ano 2:\n",
      "C         0.17\n",
      "Java     -4.57\n",
      "Python    2.27\n",
      "dtype: float64\n"
     ]
    }
   ],
   "source": [
    "variacao = seriesAno2 - seriesAno1\n",
    "print(\"Variação no mercado de cada linguagem do Ano 1 para o Ano 2:\")\n",
    "print(variacao)"
   ]
  },
  {
   "cell_type": "markdown",
   "metadata": {},
   "source": [
    "4 -"
   ]
  },
  {
   "cell_type": "code",
   "execution_count": 24,
   "metadata": {},
   "outputs": [
    {
     "name": "stdout",
     "output_type": "stream",
     "text": [
      "Linguagens que tiveram crescimento:\n",
      "C         0.17\n",
      "Python    2.27\n",
      "dtype: float64\n"
     ]
    }
   ],
   "source": [
    "crescimento = variacao[variacao > 0]\n",
    "print(\"Linguagens que tiveram crescimento:\")\n",
    "print(crescimento)"
   ]
  },
  {
   "cell_type": "markdown",
   "metadata": {},
   "source": [
    "5 -"
   ]
  },
  {
   "cell_type": "code",
   "execution_count": 25,
   "metadata": {},
   "outputs": [
    {
     "name": "stdout",
     "output_type": "stream",
     "text": [
      "Linguagem mais popular no Ano 4:\n",
      "Python    16.66\n",
      "dtype: float64\n"
     ]
    }
   ],
   "source": [
    "seriesAno3 = seriesAno2 + variacao\n",
    "seriesAno4 = seriesAno3 + variacao\n",
    "\n",
    "mais_popular = seriesAno4.nlargest(1)\n",
    "print(\"Linguagem mais popular no Ano 4:\")\n",
    "print(mais_popular)"
   ]
  },
  {
   "cell_type": "markdown",
   "metadata": {},
   "source": [
    "# Parte 2\n"
   ]
  },
  {
   "cell_type": "markdown",
   "metadata": {},
   "source": [
    "6 -"
   ]
  },
  {
   "cell_type": "code",
   "execution_count": 26,
   "metadata": {},
   "outputs": [
    {
     "name": "stdout",
     "output_type": "stream",
     "text": [
      "A média dos números da coluna 'X' que são menores de 30 é: 17.5\n"
     ]
    }
   ],
   "source": [
    "np.random.seed(10)\n",
    " \n",
    "df = pd.DataFrame(index=['A','B','C','D','E'],columns=['W','X','Y','Z'],data= np.random.randint(1,50,[5,4]))\n",
    " \n",
    "x = df['X']\n",
    " \n",
    "print(f\"A média dos números da coluna 'X' que são menores de 30 é: {np.mean(x[x<30])}\")"
   ]
  },
  {
   "cell_type": "markdown",
   "metadata": {},
   "source": [
    "7 - \n"
   ]
  },
  {
   "cell_type": "code",
   "execution_count": 27,
   "metadata": {},
   "outputs": [
    {
     "name": "stdout",
     "output_type": "stream",
     "text": [
      "A média dos elementos da linha 'D' é: 34.5\n",
      "A soma dos elementos da linha 'E' é: 122\n"
     ]
    }
   ],
   "source": [
    "media_linha_D = df.loc['D'].mean()\n",
    "soma_linha_E = df.iloc[4].sum()\n",
    "\n",
    "print(f\"A média dos elementos da linha 'D' é: {media_linha_D}\")\n",
    "print(f\"A soma dos elementos da linha 'E' é: {soma_linha_E}\")"
   ]
  },
  {
   "cell_type": "markdown",
   "metadata": {},
   "source": [
    "8 - \n"
   ]
  },
  {
   "cell_type": "code",
   "execution_count": 28,
   "metadata": {},
   "outputs": [
    {
     "name": "stdout",
     "output_type": "stream",
     "text": [
      "Slicing da matriz:\n",
      "    X   Y\n",
      "A  37  16\n",
      "C   9  10\n",
      "E  48  12\n",
      "\n",
      "Soma dos elementos de cada linha:\n",
      "A    53\n",
      "C    19\n",
      "E    60\n",
      "dtype: int64\n",
      "\n",
      "Soma dos elementos de cada coluna:\n",
      "X    94\n",
      "Y    38\n",
      "dtype: int64\n"
     ]
    }
   ],
   "source": [
    "sliced_df = df.loc[['A', 'C', 'E'], ['X', 'Y']]\n",
    "\n",
    "soma_linhas = sliced_df.sum(axis=1)\n",
    "\n",
    "soma_colunas = sliced_df.sum(axis=0)\n",
    "\n",
    "print(\"Slicing da matriz:\")\n",
    "print(sliced_df)\n",
    "print(\"\\nSoma dos elementos de cada linha:\")\n",
    "print(soma_linhas)\n",
    "print(\"\\nSoma dos elementos de cada coluna:\")\n",
    "print(soma_colunas)"
   ]
  }
 ],
 "metadata": {
  "kernelspec": {
   "display_name": "Python 3",
   "language": "python",
   "name": "python3"
  },
  "language_info": {
   "codemirror_mode": {
    "name": "ipython",
    "version": 3
   },
   "file_extension": ".py",
   "mimetype": "text/x-python",
   "name": "python",
   "nbconvert_exporter": "python",
   "pygments_lexer": "ipython3",
   "version": "3.9.6"
  }
 },
 "nbformat": 4,
 "nbformat_minor": 2
}
