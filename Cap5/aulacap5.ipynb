{
 "cells": [
  {
   "cell_type": "markdown",
   "metadata": {},
   "source": [
    "# Pandas"
   ]
  },
  {
   "cell_type": "code",
   "execution_count": 12,
   "metadata": {},
   "outputs": [],
   "source": [
    "import pandas as pd \n",
    "import numpy as np"
   ]
  },
  {
   "cell_type": "code",
   "execution_count": null,
   "metadata": {},
   "outputs": [],
   "source": [
    "labels = ['a', 'b', 'c']\n",
    "dados = [10, 20, 30]\n",
    "s1 = pd.Series(data=dados, index=labels)\n",
    "print(s1)\n",
    "print(type(s1))\n",
    "print(\"=========================================\")\n",
    "print(\"vizualizando o valor do indice 'a':\" , s1['a'])\n",
    "print(\"series com dicinionario\")\n",
    "s2 = pd.Series({'a':10, 'b':20, 'c':30})\n",
    "print(s2)\n",
    "print(\"=========================================\")\n",
    "print(\"soma das series\")\n",
    "print(s1 + s2)\n",
    "print(\"=========================================\")\n",
    "print(s1.add(s2, fill_value=0))\n",
    "print(\"=========================================\")\n"
   ]
  },
  {
   "cell_type": "code",
   "execution_count": 29,
   "metadata": {},
   "outputs": [
    {
     "name": "stdout",
     "output_type": "stream",
     "text": [
      "    w   x   y   z\n",
      "a  10  37  16   1\n",
      "b  29  26  30  49\n",
      "c  30   9  10   1\n",
      "d  43  41  37  17\n",
      "e  37  48  12  25\n",
      "29\n",
      "w    10\n",
      "x    37\n",
      "Name: a, dtype: int64\n"
     ]
    }
   ],
   "source": [
    "np.random.seed(10)\n",
    "df = pd.DataFrame(data=np.random.randint(1, 50, (5, 4)), index=['a', 'b', 'c', 'd', 'e'], columns=['w', 'x', 'y', 'z'])\n",
    "\n",
    "print(df)\n",
    "\n",
    "print(df['w']['b'])\n",
    "\n",
    "print(df.loc['a', ['w', 'x']])"
   ]
  }
 ],
 "metadata": {
  "kernelspec": {
   "display_name": "Python 3",
   "language": "python",
   "name": "python3"
  },
  "language_info": {
   "codemirror_mode": {
    "name": "ipython",
    "version": 3
   },
   "file_extension": ".py",
   "mimetype": "text/x-python",
   "name": "python",
   "nbconvert_exporter": "python",
   "pygments_lexer": "ipython3",
   "version": "3.9.6"
  }
 },
 "nbformat": 4,
 "nbformat_minor": 2
}
